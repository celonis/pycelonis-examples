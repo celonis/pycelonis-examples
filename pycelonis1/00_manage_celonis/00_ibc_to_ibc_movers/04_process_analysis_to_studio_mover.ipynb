{
 "cells": [
  {
   "attachments": {},
   "cell_type": "markdown",
   "metadata": {},
   "source": [
    "## Move Analysis from Process Analytics to Studio\n",
    "\n",
    "<blockquote>\n",
    "    <strong>NOTE:</strong> This tutorial is intended for use with <strong>Process Analytics</strong> analyses. To pull data from <strong>Studio</strong> Analyses, see our <a href=\"../02_asset_mover.ipynb\">Asset Mover Template</a>\n",
    "</blockquote>"
   ]
  },
  {
   "cell_type": "code",
   "execution_count": 1,
   "metadata": {},
   "outputs": [],
   "source": [
    "source_team_url = 'INSERT TEAM URL HERE' #ex. https://your_team.celonis.cloud/\n",
    "source_api_key = 'API TOKEN HERE'\n",
    "destination_team_url = 'INSERT TEAM URL HERE' #ex. https://your_team.celonis.cloud/\n",
    "destination_api_key = 'API TOKEN HERE'"
   ]
  },
  {
   "cell_type": "markdown",
   "metadata": {},
   "source": [
    "### Set environment variables for the source team setup"
   ]
  },
  {
   "cell_type": "code",
   "execution_count": 2,
   "metadata": {},
   "outputs": [],
   "source": [
    "# DO NOT MODIFY THIS CELL\n",
    "import os\n",
    "os.environ['TEAM_URL'] = source_team_url\n",
    "os.environ['API_TOKEN'] = source_api_key"
   ]
  },
  {
   "attachments": {},
   "cell_type": "markdown",
   "metadata": {},
   "source": [
    "### Pull analysis from process analytics in source team as an asset\n",
    "\n",
    "<blockquote>Looking for the analysis ID? Open to the analysis and view the browser URL <br>(ex. https://<area>team.cluster.celonis.cloud/process-mining/analysis/<strong>dd277835-1140-4f30-98ea-1b190bd21cec</strong>/)</blockquote>"
   ]
  },
  {
   "cell_type": "code",
   "execution_count": 3,
   "metadata": {},
   "outputs": [
    {
     "name": "stdout",
     "output_type": "stream",
     "text": [
      "\u001b[32minfo\u001b[39m:    File downloaded successfully. New filename: asset_6b2166e2-0c40-43e2-b3e6-62996c7dae11.yaml\n"
     ]
    }
   ],
   "source": [
    "!content-cli pull analysis --id 'ANALYSIS ID HERE' --asset"
   ]
  },
  {
   "cell_type": "markdown",
   "metadata": {},
   "source": [
    "### Set environment variables again for the destination team setup\n",
    "No need to do this step (re-define environment variables) if source and destination teams are the same"
   ]
  },
  {
   "cell_type": "code",
   "execution_count": 4,
   "metadata": {},
   "outputs": [],
   "source": [
    "# DO NOT MODIFY THIS CELL\n",
    "os.environ['TEAM_URL'] = destination_team_url\n",
    "os.environ['API_TOKEN'] = destination_api_key"
   ]
  },
  {
   "attachments": {},
   "cell_type": "markdown",
   "metadata": {},
   "source": [
    "### Push downloaded analysis file to the studio as asset in the source team\n",
    "Hint: Press tab while writing the file name to auto complete\n",
    "\n",
    "<blockquote>Looking for the package key? Locate the package, open the <strong>...</strong> menu, and click <strong>Key</strong></blockquote>"
   ]
  },
  {
   "cell_type": "code",
   "execution_count": 5,
   "metadata": {},
   "outputs": [
    {
     "name": "stdout",
     "output_type": "stream",
     "text": [
      "\u001b[32minfo\u001b[39m:    Asset was pushed successfully. New key: test.RCA\n"
     ]
    }
   ],
   "source": [
    "!content-cli push asset --file 'DOWLOADED FILE FROM THE PREVIOUS STEP HERE' --package 'PACKAGE KEY TO PUSH TO HERE' #example file: asset_6b2166e2-0c40-43e2-b3e6-62996c7dae11.yaml"
   ]
  }
 ],
 "metadata": {
  "kernelspec": {
   "display_name": "Python 3",
   "language": "python",
   "name": "python3"
  },
  "language_info": {
   "codemirror_mode": {
    "name": "ipython",
    "version": 3
   },
   "file_extension": ".py",
   "mimetype": "text/x-python",
   "name": "python",
   "nbconvert_exporter": "python",
   "pygments_lexer": "ipython3",
   "version": "3.7.6"
  }
 },
 "nbformat": 4,
 "nbformat_minor": 4
}
