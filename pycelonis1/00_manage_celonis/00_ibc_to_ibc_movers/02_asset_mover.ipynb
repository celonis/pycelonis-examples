{
 "cells": [
  {
   "attachments": {},
   "cell_type": "markdown",
   "metadata": {},
   "source": [
    "## Asset Mover using Content CLI\n",
    "\n",
    "### This script moves any asset in Studio (skill, view, analysis, knowledge model etc.) from one team to another "
   ]
  },
  {
   "cell_type": "code",
   "execution_count": 1,
   "metadata": {},
   "outputs": [],
   "source": [
    "source_team_url = 'INSERT TEAM URL HERE' #ex. https://your_team.celonis.cloud/\n",
    "source_api_key = 'API TOKEN HERE'\n",
    "destination_team_url = 'INSERT TEAM URL HERE' #ex. https://your_team.celonis.cloud/\n",
    "destination_api_key = 'API TOKEN HERE'"
   ]
  },
  {
   "cell_type": "markdown",
   "metadata": {},
   "source": [
    "### Set environment variable for the source team"
   ]
  },
  {
   "cell_type": "code",
   "execution_count": 2,
   "metadata": {},
   "outputs": [],
   "source": [
    "# DO NOT MODIFY THIS CELL\n",
    "import os\n",
    "os.environ['TEAM_URL'] = source_team_url\n",
    "os.environ['API_TOKEN'] = source_api_key"
   ]
  },
  {
   "attachments": {},
   "cell_type": "markdown",
   "metadata": {},
   "source": [
    "### Pull asset from the source team\n",
    "\n",
    "<blockquote>Looking for the asset key? Locate the asset, open the <strong>...</strong> menu, and click <strong>Key</strong></blockquote>"
   ]
  },
  {
   "cell_type": "code",
   "execution_count": 3,
   "metadata": {},
   "outputs": [
    {
     "name": "stdout",
     "output_type": "stream",
     "text": [
      "\u001b[32minfo\u001b[39m:    File downloaded successfully. New filename: asset_mykm.yml\n"
     ]
    }
   ],
   "source": [
    "!content-cli pull asset --key 'ASSET KEY HERE' #ex. test.testview"
   ]
  },
  {
   "cell_type": "markdown",
   "metadata": {},
   "source": [
    "### Set environment variable for the destination team\n",
    "Skip this step of setting environment variables again if source and destination are the same teams"
   ]
  },
  {
   "cell_type": "code",
   "execution_count": 4,
   "metadata": {},
   "outputs": [],
   "source": [
    "# DO NOT MODIFY THIS CELL\n",
    "os.environ['TEAM_URL'] = destination_team_url\n",
    "os.environ['API_TOKEN'] = destination_api_key"
   ]
  },
  {
   "attachments": {},
   "cell_type": "markdown",
   "metadata": {},
   "source": [
    "### Push asset to the destination team\n",
    "Hint: Press tab to autocomplete the file name\n",
    "\n",
    "<blockquote>Looking for the package key? Locate the package, open the <strong>...</strong> menu, and click <strong>Key</strong></blockquote>"
   ]
  },
  {
   "cell_type": "code",
   "execution_count": 5,
   "metadata": {},
   "outputs": [
    {
     "name": "stdout",
     "output_type": "stream",
     "text": [
      "\u001b[32minfo\u001b[39m:    Asset was pushed successfully. New key: noor.mykm\n"
     ]
    }
   ],
   "source": [
    "!content-cli push asset --file 'DOWLOADED FILE FROM THE PREVIOUS STEP HERE' --package 'PACKAGE KEY TO PUSH THE ASSET TO HERE' #example file: asset_mykm.yml"
   ]
  }
 ],
 "metadata": {
  "kernelspec": {
   "display_name": "Python 3",
   "language": "python",
   "name": "python3"
  },
  "language_info": {
   "codemirror_mode": {
    "name": "ipython",
    "version": 3
   },
   "file_extension": ".py",
   "mimetype": "text/x-python",
   "name": "python",
   "nbconvert_exporter": "python",
   "pygments_lexer": "ipython3",
   "version": "3.7.6"
  }
 },
 "nbformat": 4,
 "nbformat_minor": 4
}
