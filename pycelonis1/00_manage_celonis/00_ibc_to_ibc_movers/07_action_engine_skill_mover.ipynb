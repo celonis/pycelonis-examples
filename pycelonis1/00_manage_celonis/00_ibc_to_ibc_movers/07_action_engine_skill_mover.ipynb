{
 "cells": [
  {
   "cell_type": "markdown",
   "metadata": {},
   "source": [
    "## Action Engine Skill Mover using Content CLI\n",
    "\n",
    "### This tutorial shows how to copy an action engine skill from one team to another one"
   ]
  },
  {
   "cell_type": "code",
   "execution_count": 1,
   "metadata": {},
   "outputs": [],
   "source": [
    "source_team_url = 'INSERT TEAM URL HERE' #ex. https://your_team.celonis.cloud/\n",
    "source_api_key = 'API TOKEN HERE'\n",
    "destination_team_url = 'INSERT TEAM URL HERE' #ex. https://your_team.celonis.cloud/\n",
    "destination_api_key = 'API TOKEN HERE'"
   ]
  },
  {
   "cell_type": "markdown",
   "metadata": {},
   "source": [
    "### Set environment variable for the source team"
   ]
  },
  {
   "cell_type": "code",
   "execution_count": 2,
   "metadata": {},
   "outputs": [],
   "source": [
    "# DO NOT MODIFY THIS CELL\n",
    "import os\n",
    "os.environ['TEAM_URL'] = source_team_url\n",
    "os.environ['API_TOKEN'] = source_api_key"
   ]
  },
  {
   "attachments": {},
   "cell_type": "markdown",
   "metadata": {},
   "source": [
    "### Pull action engine skill from the source team\n",
    "\n",
    "<blockquote>Looking for the action engine skill ID? Open to Action Engine, open the project from the projects tab. Select the desired skill and view the browser URL<br>(ex. https://<area>team.cluster.celonis.cloud/action-engine/ui/projects/deef790a-2a2b-4637-a99b-77d271278279/skills/<strong>43ac6d44-1320-4c17-be39-b7307474ebc1</strong>)</blockquote>"
   ]
  },
  {
   "cell_type": "code",
   "execution_count": 3,
   "metadata": {},
   "outputs": [
    {
     "name": "stdout",
     "output_type": "stream",
     "text": [
      "\u001b[32minfo\u001b[39m:    File downloaded successfully. New filename: skill_08594b68-2731-4ede-abaf-4fd7eb5720ca.json\n"
     ]
    }
   ],
   "source": [
    "!content-cli pull skill --skillId 'ACTION ENGINE SKILL ID HERE'  --projectId 'PROJECT ID HERE'"
   ]
  },
  {
   "cell_type": "markdown",
   "metadata": {},
   "source": [
    "### Set environment variables again for the destination team setup\n",
    "No need to do this step (re-define environment variables) if source and destination teams are the same"
   ]
  },
  {
   "cell_type": "code",
   "execution_count": 4,
   "metadata": {},
   "outputs": [],
   "source": [
    "# DO NOT MODIFY THIS CELL\n",
    "os.environ['TEAM_URL'] = destination_team_url\n",
    "os.environ['API_TOKEN'] = destination_api_key"
   ]
  },
  {
   "cell_type": "markdown",
   "metadata": {},
   "source": [
    "### Push action engine skill to the destination team\n",
    "\n",
    "Hint: Press tab while writing the file name to auto complete"
   ]
  },
  {
   "cell_type": "code",
   "execution_count": 5,
   "metadata": {},
   "outputs": [
    {
     "name": "stdout",
     "output_type": "stream",
     "text": [
      "\u001b[32minfo\u001b[39m:    Skill was pushed successfully. New ID: 4639e4dd-b0ea-484f-822b-5415f2244c5d\n"
     ]
    }
   ],
   "source": [
    "!content-cli push skill --projectId 'NEW PROJECT ID HERE' --file 'DOWLOADED FILE FROM THE PREVIOUS STEP HERE' #ex. skill_08594b68-2731-4ede-abaf-4fd7eb5720ca.json"
   ]
  }
 ],
 "metadata": {
  "kernelspec": {
   "display_name": "Python 3",
   "language": "python",
   "name": "python3"
  },
  "language_info": {
   "codemirror_mode": {
    "name": "ipython",
    "version": 3
   },
   "file_extension": ".py",
   "mimetype": "text/x-python",
   "name": "python",
   "nbconvert_exporter": "python",
   "pygments_lexer": "ipython3",
   "version": "3.7.6"
  }
 },
 "nbformat": 4,
 "nbformat_minor": 4
}
