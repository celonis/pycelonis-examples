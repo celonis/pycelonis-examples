{
 "cells": [
  {
   "cell_type": "markdown",
   "metadata": {},
   "source": [
    "## Package Mover using Content CLI\n",
    "\n",
    "### This script moves a package from one team/place to another "
   ]
  },
  {
   "cell_type": "code",
   "execution_count": 1,
   "metadata": {},
   "outputs": [],
   "source": [
    "source_team_url = 'https://your_team.celonis.cloud/'\n",
    "source_api_key = 'your_api_token'\n",
    "destination_team_url = 'https://your_team.celonis.cloud/'\n",
    "destination_api_key = 'your_api_token'"
   ]
  },
  {
   "cell_type": "markdown",
   "metadata": {},
   "source": [
    "#### Set environment variable for the source team"
   ]
  },
  {
   "cell_type": "code",
   "execution_count": 2,
   "metadata": {},
   "outputs": [],
   "source": [
    "import os\n",
    "os.environ['TEAM_URL'] = source_team_url\n",
    "os.environ['API_TOKEN'] = source_api_key"
   ]
  },
  {
   "cell_type": "markdown",
   "metadata": {},
   "source": [
    "#### Pull Package from the source team"
   ]
  },
  {
   "cell_type": "code",
   "execution_count": 3,
   "metadata": {
    "jupyter": {
     "source_hidden": true
    }
   },
   "outputs": [
    {
     "name": "stdout",
     "output_type": "stream",
     "text": [
      "\u001b[32minfo\u001b[39m:    File downloaded successfully\n"
     ]
    }
   ],
   "source": [
    "!content-cli pull package --key 'package_key'"
   ]
  },
  {
   "cell_type": "markdown",
   "metadata": {},
   "source": [
    "#### Set environment variable for the destination team\n",
    "(Skip this step of setting environment variables again if source and destination are the same teams)"
   ]
  },
  {
   "cell_type": "code",
   "execution_count": 4,
   "metadata": {},
   "outputs": [],
   "source": [
    "os.environ['TEAM_URL'] = destination_team_url\n",
    "os.environ['API_TOKEN'] = destination_api_key"
   ]
  },
  {
   "cell_type": "markdown",
   "metadata": {},
   "source": [
    "#### Push package to the destination team\n",
    "Set the destination space to push the package: Studio Top Left > Three dot Button (Hint: Press tab to autocomplete the file name)"
   ]
  },
  {
   "cell_type": "code",
   "execution_count": 5,
   "metadata": {},
   "outputs": [
    {
     "name": "stdout",
     "output_type": "stream",
     "text": [
      "\u001b[32minfo\u001b[39m:    Package was pushed successfully.\n"
     ]
    }
   ],
   "source": [
    "!content-cli push package --spaceKey <space-key> --file 'downloaded_zip_file_in_previous_step'"
   ]
  }
 ],
 "metadata": {
  "kernelspec": {
   "display_name": "Python 3",
   "language": "python",
   "name": "python3"
  },
  "language_info": {
   "codemirror_mode": {
    "name": "ipython",
    "version": 3
   },
   "file_extension": ".py",
   "mimetype": "text/x-python",
   "name": "python",
   "nbconvert_exporter": "python",
   "pygments_lexer": "ipython3",
   "version": "3.7.6"
  }
 },
 "nbformat": 4,
 "nbformat_minor": 4
}
